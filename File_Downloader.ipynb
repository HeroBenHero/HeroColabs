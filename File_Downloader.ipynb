{
  "nbformat": 4,
  "nbformat_minor": 0,
  "metadata": {
    "colab": {
      "name": "File Downloader.ipynb",
      "provenance": [],
      "collapsed_sections": [],
      "authorship_tag": "ABX9TyO3D1VH1WTcolpob7spFC4G",
      "include_colab_link": true
    },
    "kernelspec": {
      "name": "python3",
      "display_name": "Python 3"
    },
    "language_info": {
      "name": "python"
    }
  },
  "cells": [
    {
      "cell_type": "markdown",
      "metadata": {
        "id": "view-in-github",
        "colab_type": "text"
      },
      "source": [
        "<a href=\"https://colab.research.google.com/github/HeroBenHero/HeroColabs/blob/main/File_Downloader.ipynb\" target=\"_parent\"><img src=\"https://colab.research.google.com/assets/colab-badge.svg\" alt=\"Open In Colab\"/></a>"
      ]
    },
    {
      "cell_type": "code",
      "metadata": {
        "id": "U1e6AIvK_L6U",
        "cellView": "form"
      },
      "source": [
        "#@title **Mount Google Drive**\n",
        "#@markdown Run The Script\n",
        "\n",
        "from google.colab import drive\n",
        "drive.mount('/content/drive')"
      ],
      "execution_count": null,
      "outputs": []
    },
    {
      "cell_type": "code",
      "metadata": {
        "id": "AwJSlaVV_kWU",
        "cellView": "form"
      },
      "source": [
        "#@title **Save Location**\n",
        "#@markdown Copy The Destination Folder From Files In Side Menu\n",
        "\n",
        "Location = \"\" #@param {type:\"string\"}\n",
        "\n",
        "import os\n",
        "os.chdir(Location)"
      ],
      "execution_count": null,
      "outputs": []
    },
    {
      "cell_type": "code",
      "source": [
        "#@title **URL Downloader**\n",
        "#@markdown Enter URL (File WIll Be Downloaded With Default Name And Format)\n",
        "\n",
        "import os\n",
        "\n",
        "URL = \"\" #@param {type:\"string\"}\n",
        "\n",
        "!wget -c '{URL}' --no-check-certificate"
      ],
      "metadata": {
        "id": "nwjcbC_N-VsB",
        "cellView": "form"
      },
      "execution_count": null,
      "outputs": []
    },
    {
      "cell_type": "code",
      "source": [
        "#@title **URL Downloader With File Name**\n",
        "#@markdown Enter URL And FileName (With File Extension)\n",
        "\n",
        "import os\n",
        "\n",
        "URL  = \"\" #@param {type:\"string\"}\n",
        "Name = \"\" #@param {type:\"string\"}\n",
        "\n",
        "!wget -c '{URL}' -O '{Name}' --no-check-certificate"
      ],
      "metadata": {
        "id": "VhuewxS2Ijj_",
        "cellView": "form"
      },
      "execution_count": null,
      "outputs": []
    }
  ]
}