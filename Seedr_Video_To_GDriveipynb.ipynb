{
  "nbformat": 4,
  "nbformat_minor": 0,
  "metadata": {
    "colab": {
      "name": "Seedr Video To GDriveipynb",
      "provenance": [],
      "authorship_tag": "ABX9TyNrXtI5PHp4xDZsdVtzOE1B",
      "include_colab_link": true
    },
    "kernelspec": {
      "name": "python3",
      "display_name": "Python 3"
    },
    "language_info": {
      "name": "python"
    }
  },
  "cells": [
    {
      "cell_type": "markdown",
      "metadata": {
        "id": "view-in-github",
        "colab_type": "text"
      },
      "source": [
        "<a href=\"https://colab.research.google.com/github/HeroBenHero/HeroColabs/blob/main/Seedr_Video_To_GDriveipynb.ipynb\" target=\"_parent\"><img src=\"https://colab.research.google.com/assets/colab-badge.svg\" alt=\"Open In Colab\"/></a>"
      ]
    },
    {
      "cell_type": "code",
      "execution_count": 94,
      "metadata": {
        "id": "zQ54T8irKZT7",
        "cellView": "form"
      },
      "outputs": [],
      "source": [
        "#@title **Login**\n",
        "!pip install seedrcc\n",
        "from seedrcc import Login,Seedr\n",
        "from google.colab import output\n",
        "from time import sleep\n",
        "import os\n",
        "output.clear()\n",
        "\n",
        "Username  = \"\" #@param {type:\"string\"}\n",
        "Password  = \"\" #@param {type:\"string\"}\n",
        " \n",
        "account = Login(Username, Password)\n",
        "account.authorize()\n",
        "seedr = Seedr(token=account.token)"
      ]
    },
    {
      "cell_type": "code",
      "source": [
        "#@title **Set Location**\n",
        "#@markdown Copy The Destination Folder From Files In Side Menu\n",
        "\n",
        "Location = \"/content/\" #@param {type:\"string\"}\n",
        "\n",
        "os.chdir(Location)"
      ],
      "metadata": {
        "id": "Abhi8ORrlCvk",
        "cellView": "form"
      },
      "execution_count": 95,
      "outputs": []
    },
    {
      "cell_type": "code",
      "source": [
        "#@title **Add Torrent**\n",
        "#@markdown Enter The Magnetic URL\n",
        "\n",
        "MagneticURL  = \"\" #@param {type:\"string\"}\n",
        "\n",
        "seedr.addTorrent(MagneticURL)\n",
        "\n",
        "table=seedr.listContents()\n",
        "while(table[\"torrents\"]!=[]):\n",
        "  for folder in table[\"torrents\"]:\n",
        "    print(folder[\"id\"],folder[\"progress\"],folder[\"name\"])\n",
        "  sleep(5)\n",
        "  output.clear()\n",
        "  table=seedr.listContents()\n",
        "\n",
        "for folder in table['folders']:  \n",
        "  files=seedr.listContents(folder[\"id\"])['files']\n",
        "\n",
        "for file in files:\n",
        "  if file['play_video']==True:\n",
        "    dl=seedr.fetchFile(file['folder_file_id'])\n",
        "    !wget -c '{dl[\"url\"] }' -O '{dl[\"name\"]}' --no-check-certificate\n",
        "seedr.deleteFolder(folder[\"id\"])"
      ],
      "metadata": {
        "id": "DE41pIOEKcFf",
        "cellView": "form"
      },
      "execution_count": null,
      "outputs": []
    },
    {
      "cell_type": "code",
      "source": [
        "#@title **List Folders**\n",
        "dir=seedr.listContents()\n",
        "for folder in dir[\"folders\"]:\n",
        "  print(folder[\"id\"],folder[\"name\"])"
      ],
      "metadata": {
        "id": "LpDYKxBLjS7z",
        "cellView": "form"
      },
      "execution_count": 97,
      "outputs": []
    }
  ]
}