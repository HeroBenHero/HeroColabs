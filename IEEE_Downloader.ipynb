{
  "nbformat": 4,
  "nbformat_minor": 0,
  "metadata": {
    "colab": {
      "provenance": [],
      "authorship_tag": "ABX9TyNT/iij09ab87voqxJVACb6",
      "include_colab_link": true
    },
    "kernelspec": {
      "name": "python3",
      "display_name": "Python 3"
    },
    "language_info": {
      "name": "python"
    }
  },
  "cells": [
    {
      "cell_type": "markdown",
      "metadata": {
        "id": "view-in-github",
        "colab_type": "text"
      },
      "source": [
        "<a href=\"https://colab.research.google.com/github/HeroBenHero/HeroColabs/blob/main/IEEE_Downloader.ipynb\" target=\"_parent\"><img src=\"https://colab.research.google.com/assets/colab-badge.svg\" alt=\"Open In Colab\"/></a>"
      ]
    },
    {
      "cell_type": "code",
      "execution_count": 2,
      "metadata": {
        "id": "OJhLoXYX3SE0",
        "cellView": "form"
      },
      "outputs": [],
      "source": [
        "#@markdown **Pre-Requisites**\n",
        "import os\n",
        "import re\n",
        "import requests\n",
        "from bs4 import BeautifulSoup\n",
        "from urllib.parse import urljoin"
      ]
    },
    {
      "cell_type": "code",
      "source": [
        "#@markdown **Enter The IEEE Link To Download The Paper**\n",
        "Site = \"https://sci-hubtw.hkvisa.net/\" #@param {type:\"string\"}\n",
        "Link = \"\" #@param {type:\"string\"}\n",
        "\n",
        "# Step 1: Fetch the HTML content of the webpage\n",
        "url = Site+Link\n",
        "response = requests.get(url)\n",
        "\n",
        "# Step 2: Extract the URL of the embedded PDF\n",
        "soup = BeautifulSoup(response.content, 'html.parser')\n",
        "download_button = soup.find('button')\n",
        "print()\n",
        "if download_button:\n",
        "    onclick_attr = download_button['onclick']\n",
        "    pdf_url = 'https://'+onclick_attr.split('=')[1].replace(\"'\", \"\").lstrip('/')\n",
        "    if 'tree/' in pdf_url:\n",
        "      print(\"Visit\",Site,\"And Download Mannually\")\n",
        "    elif 'downloads/' in pdf_url:\n",
        "      print('No PDF file found on the webpage.')\n",
        "    else:\n",
        "      print(\"Your Paper Download Link Is :\\n\",pdf_url)\n",
        "else:\n",
        "    print('No PDF file found on the webpage.')\n"
      ],
      "metadata": {
        "cellView": "form",
        "id": "QeswvRARq3Uz"
      },
      "execution_count": null,
      "outputs": []
    },
    {
      "cell_type": "code",
      "source": [
        "#@markdown **Enter The IEEE Search Result Source Code To Extract The Paper Links**\n",
        "# Example string\n",
        "Source = \"\" #@param {type:\"string\"}\n",
        "\n",
        "# Regular expression to match '/document/(integer)/'\n",
        "pattern = r'/document/(\\d+)/'\n",
        "\n",
        "# Extract all occurrences of the pattern\n",
        "matches = list(set(re.findall(pattern, Source)))\n",
        "\n",
        "# Append prefix to each match\n",
        "matches = [f'https://ieeexplore.ieee.org/document/{match}/' for match in matches]\n",
        "\n",
        "# Print the matches\n",
        "for match in matches:\n",
        "    print(match)\n"
      ],
      "metadata": {
        "cellView": "form",
        "id": "Wu5Rs3iaCagX"
      },
      "execution_count": null,
      "outputs": []
    },
    {
      "cell_type": "code",
      "source": [
        "#@markdown **Enter The IEEE Search Result Source Code To Extract The Paper Links**\n",
        "\n",
        "def listpdf(Link):\n",
        "\n",
        "  Site = \"https://sci-hubtw.hkvisa.net/\" #@param {type:\"string\"}\n",
        "\n",
        "  # Step 1: Fetch the HTML content of the webpage\n",
        "  url = Site+Link\n",
        "  response = requests.get(url)\n",
        "\n",
        "  # Step 2: Extract the URL of the embedded PDF\n",
        "  soup = BeautifulSoup(response.content, 'html.parser')\n",
        "  download_button = soup.find('button')\n",
        "  if download_button:\n",
        "      onclick_attr = download_button['onclick']\n",
        "      pdf_url = 'https://'+onclick_attr.split('=')[1].replace(\"'\", \"\").lstrip('/')\n",
        "      if 'downloads/' not in pdf_url:\n",
        "        # if 'downloads/' or 'tree/' not in pdf_url:\n",
        "        print(Link)\n",
        "        print(pdf_url)\n",
        "  #     else:\n",
        "  #       print('No PDF file found on the webpage.')\n",
        "  #     #!wget {pdf_url}\n",
        "  # else:\n",
        "  #     print('No PDF file found on the webpage.')\n",
        "\n",
        "# Example string\n",
        "Source = \"\" #@param {type:\"string\"}\n",
        "\n",
        "# Regular expression to match '/document/(integer)/'\n",
        "pattern = r'/document/(\\d+)/'\n",
        "\n",
        "# Extract all occurrences of the pattern\n",
        "matches = list(set(re.findall(pattern, Source)))\n",
        "\n",
        "# Append prefix to each match\n",
        "matches = [f'https://ieeexplore.ieee.org/document/{match}/' for match in matches]\n",
        "\n",
        "# Print the matches\n",
        "for match in matches:\n",
        "    listpdf(match)\n"
      ],
      "metadata": {
        "cellView": "form",
        "id": "AqlKXkMPER6O"
      },
      "execution_count": null,
      "outputs": []
    }
  ]
}