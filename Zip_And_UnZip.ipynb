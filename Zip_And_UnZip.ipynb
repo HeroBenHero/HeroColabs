{
  "nbformat": 4,
  "nbformat_minor": 0,
  "metadata": {
    "colab": {
      "name": "Zip And UnZip.ipynb",
      "provenance": [],
      "collapsed_sections": [],
      "authorship_tag": "ABX9TyNNX0P0Rm0ulouESWnHBCKE",
      "include_colab_link": true
    },
    "kernelspec": {
      "name": "python3",
      "display_name": "Python 3"
    },
    "language_info": {
      "name": "python"
    }
  },
  "cells": [
    {
      "cell_type": "markdown",
      "metadata": {
        "id": "view-in-github",
        "colab_type": "text"
      },
      "source": [
        "<a href=\"https://colab.research.google.com/github/HeroBenHero/HeroColabs/blob/main/Zip_And_UnZip.ipynb\" target=\"_parent\"><img src=\"https://colab.research.google.com/assets/colab-badge.svg\" alt=\"Open In Colab\"/></a>"
      ]
    },
    {
      "cell_type": "code",
      "execution_count": null,
      "metadata": {
        "cellView": "form",
        "id": "pxeCJlcDvkl1"
      },
      "outputs": [],
      "source": [
        "#@title **Mount Google Drive**\n",
        "#@markdown Run The Script\n",
        "\n",
        "from google.colab import drive\n",
        "drive.mount('/content/drive')"
      ]
    },
    {
      "cell_type": "code",
      "metadata": {
        "id": "J-S7hYTzLpZK",
        "cellView": "form"
      },
      "source": [
        "#@title <-----<strong>Upload your  Rclone.config file</strong>\n",
        "def moveConfig():\n",
        "  !mv rclone.conf /root/.config/rclone/rclone.conf\n",
        "\n",
        "from google.colab import files\n",
        "from os import makedirs\n",
        "makedirs(\"/root/.config/rclone\", exist_ok = True) \n",
        "!curl https://rclone.org/install.sh | sudo bash\n",
        "uploaded = files.upload()\n",
        "\n",
        "for fn in uploaded.keys():\n",
        "  print('User uploaded file \"{name}\" with length {length} bytes'.format(\n",
        "      name=fn, length=len(uploaded[fn])))\n",
        "moveConfig()\n",
        "print(\"Moved rclone.conf to /root/.config/rclone/rclone.conf\")"
      ],
      "execution_count": null,
      "outputs": []
    },
    {
      "cell_type": "code",
      "metadata": {
        "id": "st8Q_ZN27ovN",
        "cellView": "form"
      },
      "source": [
        "#@markdown <center><h3>Rclone MOUNT / UNMOUNT</h3>Mount the remote as file system on a mountpoint.</center>\n",
        "import os\n",
        "from IPython.display import HTML, clear_output\n",
        "import uuid\n",
        "import ipywidgets as widgets\n",
        "from google.colab import output\n",
        "import re\n",
        "##########################################\n",
        "\n",
        "class MakeButton(object):\n",
        "  def __init__(self, title, callback, style):\n",
        "    self._title = title\n",
        "    self._callback = callback\n",
        "    self._style = style\n",
        "  def _repr_html_(self):\n",
        "    callback_id = 'button-' + str(uuid.uuid4())\n",
        "    output.register_callback(callback_id, self._callback)\n",
        "    if self._style != \"\":\n",
        "      style_html = \"p-Widget jupyter-widgets jupyter-button widget-button mod-\" + self._style\n",
        "    else:\n",
        "      style_html = \"p-Widget jupyter-widgets jupyter-button widget-button\"\n",
        "    template = \"\"\"<button class=\"{style_html}\" id=\"{callback_id}\">{title}</button>\n",
        "        <script>\n",
        "          document.querySelector(\"#{callback_id}\").onclick = (e) => {{\n",
        "            google.colab.kernel.invokeFunction('{callback_id}', [], {{}})\n",
        "            e.preventDefault();\n",
        "          }};\n",
        "        </script>\"\"\"\n",
        "    html = template.format(title=self._title, callback_id=callback_id, style_html=style_html)\n",
        "    return html\n",
        "  \n",
        "def ShowAC():\n",
        "  clear_output(wait=True)\n",
        "  display(\n",
        "      widgets.HBox(\n",
        "          [widgets.VBox(\n",
        "              [widgets.HTML(\n",
        "                  '''<h3 style=\"font-family:Trebuchet MS;color:#4f8bd6;margin-top:0px;\">\n",
        "                  Rclone available config...</h3>\n",
        "                  '''\n",
        "                  ),\n",
        "               mountNam]\n",
        "               )\n",
        "          ]\n",
        "          )\n",
        "      )\n",
        "  \n",
        "  display(HTML(\"<br>\"), MakeButton(\"Mount\", MountCMD, \"primary\"),\n",
        "          MakeButton(\"Unmount\", unmountCMD, \"danger\"))\n",
        "content = open(\"/root/.config/rclone/rclone.conf\").read()\n",
        "avCon = re.findall(r\"^\\[(.+)\\]$\", content, re.M)\n",
        "mountNam = widgets.Dropdown(options=avCon)\n",
        "cache_path=\"/content/temp/rCloneTemp\"\n",
        "def MountCMD():\n",
        "    mPoint = f\"/content/drives/{mountNam.value}\"\n",
        "    os.makedirs(mPoint, exist_ok=True)\n",
        "    !rclone mount $mountNam.value: $mPoint --user-agent 'Mozilla' --buffer-size 256M --transfers 10 --vfs-cache-mode minimal --vfs-read-chunk-size 500M --vfs-cache-max-size 50G --vfs-cache-max-age 0h0m1s --vfs-cache-poll-interval 0m1s --cache-dir '/content/temp/rCloneTemp' --allow-other --daemon \n",
        "\n",
        "    if os.path.isdir(mPoint)== True:\n",
        "      print(f\"Mount success! - \\t{mPoint}\")\n",
        "    else:\n",
        "      print(f\"Mount failed! - \\t{mPoint}\")\n",
        "\n",
        "def unmountCMD():\n",
        "  mPoint = f\"/content/drives/{mountNam.value}\"\n",
        "  if os.system(f\"fusermount -uz {mPoint}\") == 0:\n",
        "    runSh(f\"rm -r {mPoint}\")\n",
        "    print(f\"Unmounted success! - \\t{mPoint}\")\n",
        "  else:\n",
        "    runSh(f\"fusermount -uz {mPoint}\", output=True)\n",
        "\n",
        "ShowAC()"
      ],
      "execution_count": null,
      "outputs": []
    },
    {
      "cell_type": "code",
      "metadata": {
        "cellView": "form",
        "id": "aZznxQoHcrnm"
      },
      "source": [
        "#@title **Save Location**\n",
        "#@markdown Copy The Destination Folder From Files In Side Menu\n",
        "\n",
        "Location = \"\" #@param {type:\"string\"}\n",
        "\n",
        "import os\n",
        "os.chdir(Location)"
      ],
      "execution_count": null,
      "outputs": []
    },
    {
      "cell_type": "code",
      "source": [
        "#@title **Zip**\n",
        "#@markdown Copy The File And Folder From Files In Side Menu\n",
        "\n",
        "Folder = \"\" #@param {type:\"string\"}\n",
        "Destnation = \"\" #@param {type:\"string\"}\n",
        "\n",
        "!zip -s- '{Folder}' '{Destnation}'"
      ],
      "metadata": {
        "cellView": "form",
        "id": "i5z4zpZyvzH7"
      },
      "execution_count": null,
      "outputs": []
    },
    {
      "cell_type": "code",
      "source": [
        "#@title **UnZip**\n",
        "#@markdown Copy The File And Folder From Files In Side Menu\n",
        "\n",
        "File = \"\" #@param {type:\"string\"}\n",
        "Destnation = \"\" #@param {type:\"string\"}\n",
        "\n",
        "!unzip '{File}' -d '{Destnation}'"
      ],
      "metadata": {
        "cellView": "form",
        "id": "hZIlCwZYvzy6"
      },
      "execution_count": null,
      "outputs": []
    },
    {
      "cell_type": "code",
      "metadata": {
        "id": "AwJSlaVV_kWU",
        "cellView": "form"
      },
      "source": [
        "#@title **Save Location**\n",
        "#@markdown Copy The Destination Folder From Files In Side Menu\n",
        "\n",
        "Location = \"\" #@param {type:\"string\"}\n",
        "\n",
        "import os\n",
        "os.chdir(Location)"
      ],
      "execution_count": null,
      "outputs": []
    },
    {
      "cell_type": "code",
      "source": [
        "#@title **Multi-UnZip**\n",
        "#@markdown Set Location And Run\n",
        "\n",
        "!unzip \\*.zip"
      ],
      "metadata": {
        "cellView": "form",
        "id": "wiSpJQHVtBci"
      },
      "execution_count": null,
      "outputs": []
    },
    {
      "cell_type": "code",
      "source": [
        "#@title **Multi-Unrar**\n",
        "#@markdown Set Location And Run\n",
        "\n",
        "!unrar e \\*.rar"
      ],
      "metadata": {
        "cellView": "form",
        "id": "1vRTZI8_tPqn"
      },
      "execution_count": null,
      "outputs": []
    },
    {
      "cell_type": "code",
      "source": [
        "#@title **Multi-Tar**\n",
        "#@markdown Set Location And Run\n",
        "\n",
        "!for f in *.tar; do tar xfv \"$f\"; done"
      ],
      "metadata": {
        "cellView": "form",
        "id": "tVeQkjoTFbsI"
      },
      "execution_count": null,
      "outputs": []
    }
  ]
}