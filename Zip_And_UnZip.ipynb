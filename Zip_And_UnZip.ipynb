{
  "nbformat": 4,
  "nbformat_minor": 0,
  "metadata": {
    "colab": {
      "name": "Zip And UnZip.ipynb",
      "provenance": [],
      "collapsed_sections": [],
      "authorship_tag": "ABX9TyN5in4HMAQp0sKCiEvNclJ8",
      "include_colab_link": true
    },
    "kernelspec": {
      "name": "python3",
      "display_name": "Python 3"
    },
    "language_info": {
      "name": "python"
    }
  },
  "cells": [
    {
      "cell_type": "markdown",
      "metadata": {
        "id": "view-in-github",
        "colab_type": "text"
      },
      "source": [
        "<a href=\"https://colab.research.google.com/github/HeroBenHero/HeroColabs/blob/main/Zip_And_UnZip.ipynb\" target=\"_parent\"><img src=\"https://colab.research.google.com/assets/colab-badge.svg\" alt=\"Open In Colab\"/></a>"
      ]
    },
    {
      "cell_type": "code",
      "execution_count": null,
      "metadata": {
        "cellView": "form",
        "id": "pxeCJlcDvkl1"
      },
      "outputs": [],
      "source": [
        "#@title **Mount Google Drive**\n",
        "#@markdown Run The Script\n",
        "\n",
        "from google.colab import drive\n",
        "drive.mount('/content/drive')"
      ]
    },
    {
      "cell_type": "code",
      "source": [
        "#@title **Zip**\n",
        "#@markdown Copy The File And Folder From Files In Side Menu\n",
        "\n",
        "Folder = \"\" #@param {type:\"string\"}\n",
        "Destnation = \"\" #@param {type:\"string\"}\n",
        "\n",
        "!zip -s- '{Folder}' '{Destnation}'"
      ],
      "metadata": {
        "cellView": "form",
        "id": "i5z4zpZyvzH7"
      },
      "execution_count": null,
      "outputs": []
    },
    {
      "cell_type": "code",
      "source": [
        "#@title **UnZip**\n",
        "#@markdown Copy The File And Folder From Files In Side Menu\n",
        "\n",
        "File = \"\" #@param {type:\"string\"}\n",
        "Destnation = \"\" #@param {type:\"string\"}\n",
        "\n",
        "!unzip '{File}' -d '{Destnation}'"
      ],
      "metadata": {
        "cellView": "form",
        "id": "hZIlCwZYvzy6"
      },
      "execution_count": null,
      "outputs": []
    }
  ]
}