{
  "cells": [
    {
      "cell_type": "markdown",
      "metadata": {
        "id": "view-in-github",
        "colab_type": "text"
      },
      "source": [
        "<a href=\"https://colab.research.google.com/github/HeroBenHero/HeroColabs/blob/main/Google_Drive_Cloner.ipynb\" target=\"_parent\"><img src=\"https://colab.research.google.com/assets/colab-badge.svg\" alt=\"Open In Colab\"/></a>"
      ]
    },
    {
      "cell_type": "code",
      "execution_count": null,
      "metadata": {
        "id": "t1eUrY5VKEMa",
        "cellView": "form"
      },
      "outputs": [],
      "source": [
        "#@title **Mount Google Drive**\n",
        "#@markdown Run The Script\n",
        "\n",
        "from google.colab import drive\n",
        "drive.mount('/content/drive')"
      ]
    },
    {
      "cell_type": "code",
      "execution_count": null,
      "metadata": {
        "id": "MW-n0J_-K4y6",
        "cellView": "form"
      },
      "outputs": [],
      "source": [
        "#@title **Save Location**\n",
        "#@markdown Copy The Folder Path From Files In Side Menu\n",
        "\n",
        "Source = \"\" #@param {type:\"string\"}\n",
        "Destination = \"\" #@param {type:\"string\"}\n",
        "\n",
        "!sudo cp -av '{Source}' '{Destination}'"
      ]
    }
  ],
  "metadata": {
    "colab": {
      "name": "Google Drive Cloner",
      "provenance": [],
      "authorship_tag": "ABX9TyNUfAsGBE639yvS1P9gTbE4",
      "include_colab_link": true
    },
    "kernelspec": {
      "display_name": "Python 3",
      "name": "python3"
    },
    "language_info": {
      "name": "python"
    }
  },
  "nbformat": 4,
  "nbformat_minor": 0
}